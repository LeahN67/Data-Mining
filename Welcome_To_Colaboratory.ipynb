{
  "nbformat": 4,
  "nbformat_minor": 0,
  "metadata": {
    "colab": {
      "name": "Welcome To Colaboratory",
      "provenance": [],
      "collapsed_sections": [],
      "toc_visible": true,
      "include_colab_link": true
    },
    "kernelspec": {
      "display_name": "Python 3",
      "name": "python3"
    }
  },
  "cells": [
    {
      "cell_type": "markdown",
      "metadata": {
        "id": "view-in-github",
        "colab_type": "text"
      },
      "source": [
        "<a href=\"https://colab.research.google.com/github/LeahN67/Data-Mining/blob/master/Welcome_To_Colaboratory.ipynb\" target=\"_parent\"><img src=\"https://colab.research.google.com/assets/colab-badge.svg\" alt=\"Open In Colab\"/></a>"
      ]
    },
    {
      "cell_type": "markdown",
      "metadata": {
        "colab_type": "text",
        "id": "P-H6Lw1vyNNd"
      },
      "source": [
        "***BEGINNER'S PYTHON TUTORIAL ***\n"
      ]
    },
    {
      "cell_type": "markdown",
      "metadata": {
        "id": "4doZ-_8vvqlj",
        "colab_type": "text"
      },
      "source": [
        "**INTEGER VALUES**\n"
      ]
    },
    {
      "cell_type": "code",
      "metadata": {
        "id": "ZmYonN5zvkqI",
        "colab_type": "code",
        "colab": {
          "base_uri": "https://localhost:8080/",
          "height": 238
        },
        "outputId": "c63f3760-6f8d-4d3e-a000-bd8260f8b535"
      },
      "source": [
        "1 + 2 + 4 + 10 + 3\n",
        "print(1 + 2 + 4 + 10 + 3)\n",
        "print(10)\n",
        "print(\"10\")\n",
        "print('10')\n",
        "print(\"Amir\")\n",
        "print('Amir')\n",
        "# print(Amir)---> Error\n",
        "print(type(4))\n",
        "print(type(\"4\"))\n",
        "print(str(4))\n",
        "print(int('5'))\n",
        "# int(\"Hi\")---> Error\n",
        "print('5' + \"10\")\n",
        "print('abc' + 'efg')\n",
        "# print(5 + '10') ---> Error\n",
        "print(2 + int('11'))"
      ],
      "execution_count": 80,
      "outputs": [
        {
          "output_type": "stream",
          "text": [
            "20\n",
            "10\n",
            "10\n",
            "10\n",
            "Amir\n",
            "Amir\n",
            "<class 'int'>\n",
            "<class 'str'>\n",
            "4\n",
            "5\n",
            "510\n",
            "abcefg\n",
            "13\n"
          ],
          "name": "stdout"
        }
      ]
    },
    {
      "cell_type": "markdown",
      "metadata": {
        "id": "dbe8C0ZRukpc",
        "colab_type": "text"
      },
      "source": [
        "**VARIABLES & ASSIGNMENTS**"
      ]
    },
    {
      "cell_type": "code",
      "metadata": {
        "id": "zBj2UyaepDSK",
        "colab_type": "code",
        "colab": {
          "base_uri": "https://localhost:8080/",
          "height": 136
        },
        "outputId": "e27f7603-1b35-4361-fdc5-26aa3d96792f"
      },
      "source": [
        "\n",
        "x = 2\n",
        "print(x)\n",
        "print('x')\n",
        "# 5 = x\n",
        "print('x = ' + str(x))\n",
        "x = 20\n",
        "print('x = ' + str(x))\n",
        "x , y, z = 20, 40, -30\n",
        "print('x =', x, ' y =', y, ' z =', z)\n",
        "a = 1\n",
        "print('First, variable a has value', a, 'and type', type(a))\n",
        "a = 'abc'\n",
        "print('Now, variable a has value', a, 'and type', type(a))"
      ],
      "execution_count": 81,
      "outputs": [
        {
          "output_type": "stream",
          "text": [
            "2\n",
            "x\n",
            "x = 2\n",
            "x = 20\n",
            "x = 20  y = 40  z = -30\n",
            "First, variable a has value 1 and type <class 'int'>\n",
            "Now, variable a has value abc and type <class 'str'>\n"
          ],
          "name": "stdout"
        }
      ]
    },
    {
      "cell_type": "markdown",
      "metadata": {
        "id": "BWYF8SOgudtr",
        "colab_type": "text"
      },
      "source": [
        "**FLOATING POINT TYPES**"
      ]
    },
    {
      "cell_type": "code",
      "metadata": {
        "id": "NKKXzNkus-lc",
        "colab_type": "code",
        "colab": {
          "base_uri": "https://localhost:8080/",
          "height": 102
        },
        "outputId": "144bffb1-7256-4927-efff-09c2a90daf07"
      },
      "source": [
        "x = 5.62\n",
        "print(type(x))\n",
        "pi = 3.14159\n",
        "print(\"Pi =\", pi)\n",
        "print(\"or\", 3.14, \"short\")\n",
        "avogadros_number = 6.022e23\n",
        "c = 2.998e8\n",
        "print(\"Avogadro's number =\", avogadros_number)\n",
        "print(\"Speed of light =\", c)"
      ],
      "execution_count": 82,
      "outputs": [
        {
          "output_type": "stream",
          "text": [
            "<class 'float'>\n",
            "Pi = 3.14159\n",
            "or 3.14 short\n",
            "Avogadro's number = 6.022e+23\n",
            "Speed of light = 299800000.0\n"
          ],
          "name": "stdout"
        }
      ]
    },
    {
      "cell_type": "markdown",
      "metadata": {
        "id": "y1uTmyDiw8Vg",
        "colab_type": "text"
      },
      "source": [
        "**CONTROL CODES WITHIN CODES**"
      ]
    },
    {
      "cell_type": "code",
      "metadata": {
        "id": "_54Iv9PZtH2o",
        "colab_type": "code",
        "colab": {
          "base_uri": "https://localhost:8080/",
          "height": 204
        },
        "outputId": "eff2e334-bb45-4312-8548-29557942b72d"
      },
      "source": [
        "print('A\\nB\\nC')\n",
        "print('D\\tE\\tF')\n",
        "print('WX\\bYZ') #---> Backspace\n",
        "print('1\\a2\\a3\\a4\\a5\\a6') #---> Alert\n",
        "print(\"Did you know that 'word' is a word?\")\n",
        "print('Did you know that \"word\" is a word?')\n",
        "print('Did you know that \\'word\\' is a word?')\n",
        "print(\"Did you know that \\\"word\\\" is a word?\")\n",
        "filename = 'C:\\\\Users\\\\rick'\n",
        "print(filename)"
      ],
      "execution_count": 83,
      "outputs": [
        {
          "output_type": "stream",
          "text": [
            "A\n",
            "B\n",
            "C\n",
            "D\tE\tF\n",
            "WX\bYZ\n",
            "1\u00072\u00073\u00074\u00075\u00076\n",
            "Did you know that 'word' is a word?\n",
            "Did you know that \"word\" is a word?\n",
            "Did you know that 'word' is a word?\n",
            "Did you know that \"word\" is a word?\n",
            "C:\\Users\\rick\n"
          ],
          "name": "stdout"
        }
      ]
    },
    {
      "cell_type": "markdown",
      "metadata": {
        "id": "-0_E4zfIxTWs",
        "colab_type": "text"
      },
      "source": [
        "**USER INPUT**"
      ]
    },
    {
      "cell_type": "code",
      "metadata": {
        "id": "HSaSHUkIxnf1",
        "colab_type": "code",
        "colab": {
          "base_uri": "https://localhost:8080/",
          "height": 238
        },
        "outputId": "e8f7a980-cd97-4567-a565-73ebf36d85a3"
      },
      "source": [
        "print('Please enter your First Name: ')\n",
        "x = input()\n",
        "print('Text entered:', x)\n",
        "print('Type:', type(x))\n",
        "print('Please enter an integer value:')\n",
        "x = input()\n",
        "print('Please enter another integer value:')\n",
        "y = input()\n",
        "w, x, y, z = 10, 15, 20, 25\n",
        "print(w, x, y, z)\n",
        "print(w, x, y, z, sep=',')\n",
        "print(w, x, y, z, sep='')\n",
        "print(w, x, y, z, sep=':')\n",
        "print(w, x, y, z, sep='-----')"
      ],
      "execution_count": 84,
      "outputs": [
        {
          "output_type": "stream",
          "text": [
            "Please enter your First Name: \n",
            "Leah\n",
            "Text entered: Leah\n",
            "Type: <class 'str'>\n",
            "Please enter an integer value:\n",
            "P\n",
            "Please enter another integer value:\n",
            "N\n",
            "10 15 20 25\n",
            "10,15,20,25\n",
            "10152025\n",
            "10:15:20:25\n",
            "10-----15-----20-----25\n"
          ],
          "name": "stdout"
        }
      ]
    },
    {
      "cell_type": "markdown",
      "metadata": {
        "id": "MWT_0tA7tg5t",
        "colab_type": "text"
      },
      "source": [
        "**EXPRESSIONS**"
      ]
    },
    {
      "cell_type": "code",
      "metadata": {
        "id": "hzsuRCwIy3Xl",
        "colab_type": "code",
        "colab": {
          "base_uri": "https://localhost:8080/",
          "height": 102
        },
        "outputId": "5df97aa8-93b1-4d70-e5bd-430f1d98111a"
      },
      "source": [
        "x, y, z = 3, -4, 0\n",
        "print(x,y,z)\n",
        "x = -x\n",
        "y = -y\n",
        "z = -z\n",
        "print(x, y, z)\n",
        "x = +y\n",
        "print(x)\n",
        "print(10/3, 3/10, 10//3, 3//10)\n",
        "print(10%3, 3%10)"
      ],
      "execution_count": 86,
      "outputs": [
        {
          "output_type": "stream",
          "text": [
            "3 -4 0\n",
            "-3 4 0\n",
            "4\n",
            "3.3333333333333335 0.3 3 0\n",
            "1 3\n"
          ],
          "name": "stdout"
        }
      ]
    },
    {
      "cell_type": "markdown",
      "metadata": {
        "id": "y2mM6ErbzK-r",
        "colab_type": "text"
      },
      "source": [
        "**ARITHMETIC EXAMPLES**"
      ]
    },
    {
      "cell_type": "code",
      "metadata": {
        "id": "_KERsi3UzVpB",
        "colab_type": "code",
        "colab": {
          "base_uri": "https://localhost:8080/",
          "height": 51
        },
        "outputId": "3d7c733a-f7d2-4752-f509-040e3aef6009"
      },
      "source": [
        "degreesF = eval(input('Enter the temperature in degrees F: '))\n",
        "# Perform the conversion\n",
        "degreesC = 5/9*(degreesF - 32)\n",
        "# Report the result\n",
        "print('temperature in degrees C: ', degreesC)"
      ],
      "execution_count": 88,
      "outputs": [
        {
          "output_type": "stream",
          "text": [
            "Enter the temperature in degrees F: 234\n",
            "temperature in degrees C:  112.22222222222223\n"
          ],
          "name": "stdout"
        }
      ]
    }
  ]
}